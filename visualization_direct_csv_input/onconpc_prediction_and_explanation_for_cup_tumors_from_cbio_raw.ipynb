{
 "cells": [
  {
   "cell_type": "code",
   "execution_count": 1,
   "id": "4f19125c-7c88-41b6-8afd-4950f537f12c",
   "metadata": {},
   "outputs": [
    {
     "name": "stderr",
     "output_type": "stream",
     "text": [
      "Using `tqdm.autonotebook.tqdm` in notebook mode. Use `tqdm.tqdm` instead to force console mode (e.g. in jupyter console)\n"
     ]
    }
   ],
   "source": [
    "import warnings\n",
    "import pandas as pd\n",
    "import xgboost as xgb\n",
    "import sys\n",
    "sys.path.append('../codes')\n",
    "import utils as utils"
   ]
  },
  {
   "cell_type": "code",
   "execution_count": 2,
   "id": "639f65e4-c3a7-435e-b3f9-b9203cdaf3c3",
   "metadata": {},
   "outputs": [],
   "source": [
    "xgb_onconpc = xgb.Booster()\n",
    "xgb_onconpc.load_model('../model/xgboost_v1.7.6_OncoNPC_full.json')\n",
    "cancer_types_to_consider = ['Acute Myeloid Leukemia', 'Bladder Urothelial Carcinoma', 'Cholangiocarcinoma',\n",
    "                            'Colorectal Adenocarcinoma', 'Diffuse Glioma', 'Endometrial Carcinoma',\n",
    "                            'Esophagogastric Adenocarcinoma', 'Gastrointestinal Neuroendocrine Tumors', 'Gastrointestinal Stromal Tumor',\n",
    "                            'Head and Neck Squamous Cell Carcinoma',\n",
    "                            'Invasive Breast Carcinoma', 'Melanoma', 'Meningothelial Tumor',\n",
    "                            'Non-Hodgkin Lymphoma', 'Non-Small Cell Lung Cancer', 'Ovarian Epithelial Tumor', 'Pancreatic Adenocarcinoma',\n",
    "                            'Pancreatic Neuroendocrine Tumor', 'Pleural Mesothelioma', 'Prostate Adenocarcinoma', 'Renal Cell Carcinoma',\n",
    "                            'Well-Differentiated Thyroid Cancer']   "
   ]
  },
  {
   "cell_type": "code",
   "execution_count": 3,
   "id": "b5d978b6-abe0-453b-804e-0e76b5e4ef9d",
   "metadata": {},
   "outputs": [],
   "source": [
    "def get_preds(patients_file, samples_file, mutations_file, cna_file, tumor_id):\n",
    "\n",
    "    \"\"\"\n",
    "    Generates predictions and explanations for given tumor samples using OncoNPC model.\n",
    "\n",
    "    This function processes patient, sample, mutation, and CNA data to predict primary sites of \n",
    "    Cancer of Unknown Primary (CUP) tumors. It also provides a bar chart of SHAP values to explain the predictions.\n",
    "\n",
    "    Args:\n",
    "        patients_file: A csv file object representing patient data.\n",
    "        samples_file: A csv file object representing sample data.\n",
    "        mutations_file: A csv file object representing mutation data.\n",
    "        cna_file: A csv file object representing CNA (Copy Number Alterations) data.\n",
    "        tumor_id: The ID of the tumor.\n",
    "\n",
    "    Returns:\n",
    "        A tuple containing:\n",
    "            A string containing the top 3 most probable cancers along with their predicted probabilities. \n",
    "            The filepath to the SHAP value bar chart explaining the prediction for the given tumor ID.\n",
    "    \"\"\"\n",
    "    \n",
    "    # convert files to data frames\n",
    "    patients_df = pd.read_csv(patients_file.name, sep='\\t')\n",
    "    samples_df = pd.read_csv(samples_file.name, sep='\\t')\n",
    "    mutations_df = pd.read_csv(mutations_file.name, sep='\\t')\n",
    "    cna_df = pd.read_csv(cna_file.name, sep='\\t') \n",
    "\n",
    "\n",
    "    # declared as global variables to generate plots in update_image function\n",
    "    global sample_id \n",
    "    global features\n",
    "    global preds_df\n",
    "\n",
    "    # get features and labels for OncoNPC predictive inference\n",
    "    df_features_genie_final, df_labels_genie = utils.get_onconpc_features_from_raw_data(\n",
    "        patients_df,\n",
    "        samples_df,\n",
    "        mutations_df,\n",
    "        cna_df,\n",
    "        features_onconpc_path='../data/features_onconpc.pkl',\n",
    "        combined_cohort_age_stats_path='../data/combined_cohort_age_stats.pkl',\n",
    "        mut_sig_weights_filepath='../data/mutation_signatures/sigProfiler*.csv'\n",
    "    )\n",
    "\n",
    "    sample_id = tumor_id\n",
    "    features = df_features_genie_final\n",
    "\n",
    "    # load fully trained OncoNPC model\n",
    "    xgb_onconpc = xgb.Booster()\n",
    "    xgb_onconpc.load_model('../model/xgboost_v1.7.6_OncoNPC_full.json')\n",
    "    \n",
    "    # specify cancer types to consider\n",
    "    cancer_types_to_consider = ['Acute Myeloid Leukemia', 'Bladder Urothelial Carcinoma', 'Cholangiocarcinoma',\n",
    "                                'Colorectal Adenocarcinoma', 'Diffuse Glioma', 'Endometrial Carcinoma',\n",
    "                                'Esophagogastric Adenocarcinoma', 'Gastrointestinal Neuroendocrine Tumors', 'Gastrointestinal Stromal Tumor',\n",
    "                                'Head and Neck Squamous Cell Carcinoma', 'Invasive Breast Carcinoma', 'Melanoma', 'Meningothelial Tumor',\n",
    "                                'Non-Hodgkin Lymphoma', 'Non-Small Cell Lung Cancer', 'Ovarian Epithelial Tumor', 'Pancreatic Adenocarcinoma',\n",
    "                                'Pancreatic Neuroendocrine Tumor', 'Pleural Mesothelioma', 'Prostate Adenocarcinoma', 'Renal Cell Carcinoma',\n",
    "                                'Well-Differentiated Thyroid Cancer']\n",
    "    \n",
    "    # predict primary sites of CUP tumors\n",
    "    preds_df = utils.get_xgboost_latest_cancer_type_preds(xgb_onconpc,\n",
    "                                                          df_features_genie_final,\n",
    "                                                          cancer_types_to_consider)\n",
    "\n",
    "    # get SHAP values for CUP tumors\n",
    "    warnings.filterwarnings('ignore')\n",
    "    shaps = utils.obtain_shap_values_with_latest_xgboost(xgb_onconpc, df_features_genie_final)\n",
    "    \n",
    "\n",
    "    query_ids = list(samples_df.SAMPLE_ID.values)\n",
    "\n",
    "    # results is structured such that:\n",
    "    # results_dict[query_id] = {'pred_prob': pred_prob,'pred_cancer': pred_cancer,'explanation_plot': full_filename}\n",
    "    results = utils.get_onconpc_prediction_explanations(query_ids, preds_df, shaps,\n",
    "                                                        df_features_genie_final,\n",
    "                                                        cancer_types_to_consider,\n",
    "                                                        save_plot=True) \n",
    "\n",
    "    return get_top3(preds_df, tumor_id), results[tumor_id]['explanation_plot'] + '.png' "
   ]
  },
  {
   "cell_type": "code",
   "execution_count": 4,
   "id": "e5fbea20-f06b-4eb4-a4e8-fa78867ccf6c",
   "metadata": {},
   "outputs": [],
   "source": [
    "def get_top3(predictions, tumor_sample_id):\n",
    "    \"\"\"\n",
    "    Extracts and formats the top three cancer type predictions for a given tumor sample.\n",
    "\n",
    "    Args:\n",
    "        predictions: A DataFrame containing the cancer type predictions for various samples.\n",
    "        tumor_sample_id: The ID of the tumor sample for which to extract the top three predictions.\n",
    "\n",
    "    Returns:\n",
    "        A string that lists the top three predicted cancer types and their probabilities.\n",
    "    \"\"\"\n",
    "    # select the row corresponding to the tumor sample ID\n",
    "    result = predictions.loc[tumor_sample_id]\n",
    "\n",
    "    # transpose the row for easier processing, each row has columns cancer type, cancer probability \n",
    "    transposed_row = result.transpose()\n",
    "\n",
    "    # remove unnecessary rows\n",
    "    transposed_row = transposed_row.drop(['cancer_type', 'max_posterior'])\n",
    "\n",
    "    # convert the series to a DataFrame and rename the column\n",
    "    transposed_row = transposed_row.to_frame()\n",
    "    transposed_row.columns = ['probability']\n",
    "\n",
    "    # make sure the probability column is numeric\n",
    "    transposed_row['probability'] = pd.to_numeric(transposed_row['probability'], errors='coerce')\n",
    "\n",
    "    # get the top 3 predictions and their probabilities\n",
    "    top3df = transposed_row.nlargest(3, columns=['probability'])\n",
    "    top3 = top3df.index.tolist() # cancer types are indices\n",
    "    top3probs = top3df['probability'].tolist()\n",
    "\n",
    "    # build a formatted string with the top 3 predictions\n",
    "    build = ''\n",
    "    for cancer, prob in zip(top3, top3probs):\n",
    "        build += f'{cancer}: {prob:.2f}\\n'\n",
    "    build = build.rstrip('\\n')\n",
    "\n",
    "    return build"
   ]
  },
  {
   "cell_type": "code",
   "execution_count": 5,
   "id": "0ed4bc9b",
   "metadata": {},
   "outputs": [],
   "source": [
    "import gradio as gr\n",
    "\n",
    "global image # path to explanation plot, defined as global for the purposes of update \n",
    "global features\n",
    "\n",
    "\n",
    "def update_image(target):\n",
    "    global image\n",
    "    global features\n",
    "    \n",
    "    shaps_cup = utils.obtain_shap_values_with_latest_xgboost(xgb_onconpc, features) # get shap values \n",
    "\n",
    "    target_idx = cancer_types_to_consider.index(target) # index of cancer type prediction \n",
    "    \n",
    "    # Get SHAP-based explanation for the prediction\n",
    "    feature_sample_df = features.loc[sample_id] # find the exact tumor sample we're predicting for \n",
    "    shap_pred_cancer_df = pd.DataFrame(shaps_cup[target_idx],\n",
    "                                       index=features.index,\n",
    "                                       columns=features.columns)\n",
    "    shap_pred_sample_df = shap_pred_cancer_df.loc[sample_id]\n",
    "    probability = preds_df.loc[sample_id][target]\n",
    "    \n",
    "    # Generate explanation plot\n",
    "    sample_info = f'Prediction: {target}\\nPrediction probability: {probability:.3f}'\n",
    "    feature_group_to_features_dict, feature_to_feature_group_dict = utils.partition_feature_names_by_group(features.columns)\n",
    "    print('hi im here')\n",
    "    fig = utils.get_individual_pred_interpretation(shap_pred_sample_df, feature_sample_df, feature_group_to_features_dict, feature_to_feature_group_dict,sample_info=sample_info, filename=f'{target}_plot.png', filepath='../others_prediction_explanation', save_plot=True)\n",
    "    return fig\n",
    "\n",
    "\n",
    "with gr.Blocks() as demo:\n",
    "\n",
    "    with gr.Row():\n",
    "        with gr.Column():\n",
    "            patients_file = gr.File(label=\"Upload clinical patients data\")\n",
    "            samples_file = gr.File(label=\"Upload clinical samples data\")\n",
    "            mutations_file = gr.File(label=\"Upload mutations data\")\n",
    "            cna_file = gr.File(label=\"Upload CNA data\")\n",
    "            tumor_sample_id = gr.Textbox(label=\"Tumor Sample ID\")  # Use the value of the state\n",
    "            submit_button = gr.Button(\"Submit\")\n",
    "\n",
    "        with gr.Column():\n",
    "            predictions_output = gr.Textbox(label=\"Top 3 Predicted Cancer Types\")\n",
    "            image = gr.Image(label=\"Image Display\")\n",
    "            output_selector = gr.Dropdown(choices=[], label=\"Output Options\", filterable=True)\n",
    "\n",
    "    submit_button.click(get_preds, inputs=[patients_file, samples_file, mutations_file, cna_file, tumor_sample_id], outputs=[predictions_output, image])\n",
    "    output_selector.change(update_image, inputs=output_selector, outputs=image)\n",
    "\n",
    "def launch_app():\n",
    "    demo.launch(debug=True, share=True)"
   ]
  },
  {
   "cell_type": "code",
   "execution_count": 6,
   "id": "2590a3e6-4d41-4a8a-9975-b497d3bf625a",
   "metadata": {},
   "outputs": [
    {
     "name": "stdout",
     "output_type": "stream",
     "text": [
      "Running on local URL:  http://127.0.0.1:7860\n",
      "Running on public URL: https://04aad362cf29ad4461.gradio.live\n",
      "\n",
      "This share link expires in 72 hours. For free permanent hosting and GPU upgrades, run `gradio deploy` from Terminal to deploy to Spaces (https://huggingface.co/spaces)\n"
     ]
    },
    {
     "data": {
      "text/html": [
       "<div><iframe src=\"https://04aad362cf29ad4461.gradio.live\" width=\"100%\" height=\"500\" allow=\"autoplay; camera; microphone; clipboard-read; clipboard-write;\" frameborder=\"0\" allowfullscreen></iframe></div>"
      ],
      "text/plain": [
       "<IPython.core.display.HTML object>"
      ]
     },
     "metadata": {},
     "output_type": "display_data"
    },
    {
     "name": "stdout",
     "output_type": "stream",
     "text": [
      "Keyboard interruption in main thread... closing server.\n",
      "Killing tunnel 127.0.0.1:7860 <> https://04aad362cf29ad4461.gradio.live\n"
     ]
    },
    {
     "name": "stderr",
     "output_type": "stream",
     "text": [
      "R[write to console]: Warning message:\n",
      "\n",
      "R[write to console]: In mut.to.sigs.input(mut.ref = mutationData, sample.id = sample_id,  :\n",
      "R[write to console]: \n",
      " \n",
      "R[write to console]:  Some samples have fewer than 50 mutations:\n",
      "  GENIE-S-001, GENIE-S-002, GENIE-S-003\n",
      "\n"
     ]
    }
   ],
   "source": [
    "launch_app()"
   ]
  },
  {
   "cell_type": "code",
   "execution_count": null,
   "id": "f68778b6-98ca-4acb-9b31-80e1e6d7baa4",
   "metadata": {},
   "outputs": [],
   "source": []
  },
  {
   "cell_type": "code",
   "execution_count": null,
   "id": "18ab52e0-b640-4b60-8880-fca030a1dc85",
   "metadata": {},
   "outputs": [],
   "source": []
  }
 ],
 "metadata": {
  "kernelspec": {
   "display_name": "Python (xgboost)",
   "language": "python",
   "name": "myenv_latest_xgboost"
  },
  "language_info": {
   "codemirror_mode": {
    "name": "ipython",
    "version": 3
   },
   "file_extension": ".py",
   "mimetype": "text/x-python",
   "name": "python",
   "nbconvert_exporter": "python",
   "pygments_lexer": "ipython3",
   "version": "3.8.18"
  }
 },
 "nbformat": 4,
 "nbformat_minor": 5
}
