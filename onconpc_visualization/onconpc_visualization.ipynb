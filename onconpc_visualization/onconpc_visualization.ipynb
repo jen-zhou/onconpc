{
 "cells": [
  {
   "cell_type": "code",
   "execution_count": 1,
   "id": "4f19125c-7c88-41b6-8afd-4950f537f12c",
   "metadata": {},
   "outputs": [
    {
     "name": "stderr",
     "output_type": "stream",
     "text": [
      "Using `tqdm.autonotebook.tqdm` in notebook mode. Use `tqdm.tqdm` instead to force console mode (e.g. in jupyter console)\n"
     ]
    }
   ],
   "source": [
    "import sys\n",
    "sys.path.append('../codes')\n",
    "import utils as utils\n",
    "import gradio_utils\n",
    "import gradio as gr"
   ]
  },
  {
   "cell_type": "code",
   "execution_count": null,
   "id": "545c66d7-917e-4909-9016-6e97699f94de",
   "metadata": {},
   "outputs": [
    {
     "name": "stdout",
     "output_type": "stream",
     "text": [
      "Running on local URL:  http://127.0.0.1:7867\n",
      "Running on public URL: https://4a910f69f442097d55.gradio.live\n",
      "\n",
      "This share link expires in 72 hours. For free permanent hosting and GPU upgrades, run `gradio deploy` from Terminal to deploy to Spaces (https://huggingface.co/spaces)\n"
     ]
    },
    {
     "data": {
      "text/html": [
       "<div><iframe src=\"https://4a910f69f442097d55.gradio.live\" width=\"100%\" height=\"500\" allow=\"autoplay; camera; microphone; clipboard-read; clipboard-write;\" frameborder=\"0\" allowfullscreen></iframe></div>"
      ],
      "text/plain": [
       "<IPython.core.display.HTML object>"
      ]
     },
     "metadata": {},
     "output_type": "display_data"
    }
   ],
   "source": [
    "gradio_utils.launch_gradio()"
   ]
  },
  {
   "cell_type": "code",
   "execution_count": null,
   "id": "f68778b6-98ca-4acb-9b31-80e1e6d7baa4",
   "metadata": {},
   "outputs": [
    {
     "name": "stdout",
     "output_type": "stream",
     "text": [
      "Running on local URL:  http://127.0.0.1:7867\n"
     ]
    },
    {
     "name": "stderr",
     "output_type": "stream",
     "text": [
      "Using the update method is deprecated. Simply return a new object instead, e.g. `return gr.Dropdown(...)` instead of `return gr.Dropdown.update(...)`.\n"
     ]
    },
    {
     "name": "stdout",
     "output_type": "stream",
     "text": [
      "Running on public URL: https://7703aef8751350f96a.gradio.live\n",
      "\n",
      "This share link expires in 72 hours. For free permanent hosting and GPU upgrades, run `gradio deploy` from Terminal to deploy to Spaces (https://huggingface.co/spaces)\n"
     ]
    },
    {
     "data": {
      "text/html": [
       "<div><iframe src=\"https://7703aef8751350f96a.gradio.live\" width=\"100%\" height=\"500\" allow=\"autoplay; camera; microphone; clipboard-read; clipboard-write;\" frameborder=\"0\" allowfullscreen></iframe></div>"
      ],
      "text/plain": [
       "<IPython.core.display.HTML object>"
      ]
     },
     "metadata": {},
     "output_type": "display_data"
    },
    {
     "name": "stderr",
     "output_type": "stream",
     "text": [
      "R[write to console]: In addition: \n",
      "R[write to console]: Warning message:\n",
      "\n",
      "R[write to console]: In mut.to.sigs.input(mut.ref = mutationData, sample.id = sample_id,  :\n",
      "R[write to console]: \n",
      " \n",
      "R[write to console]:  Some samples have fewer than 50 mutations:\n",
      "  GENIE-S-001, GENIE-S-002, GENIE-S-003\n",
      "\n"
     ]
    }
   ],
   "source": [
    "cancer_types_to_consider = ['Acute Myeloid Leukemia', 'Bladder Urothelial Carcinoma', 'Cholangiocarcinoma',\n",
    "                            'Colorectal Adenocarcinoma', 'Diffuse Glioma', 'Endometrial Carcinoma',\n",
    "                            'Esophagogastric Adenocarcinoma', 'Gastrointestinal Neuroendocrine Tumors', 'Gastrointestinal Stromal Tumor',\n",
    "                            'Head and Neck Squamous Cell Carcinoma',\n",
    "                            'Invasive Breast Carcinoma', 'Melanoma', 'Meningothelial Tumor',\n",
    "                            'Non-Hodgkin Lymphoma', 'Non-Small Cell Lung Cancer', 'Ovarian Epithelial Tumor', 'Pancreatic Adenocarcinoma',\n",
    "                            'Pancreatic Neuroendocrine Tumor', 'Pleural Mesothelioma', 'Prostate Adenocarcinoma', 'Renal Cell Carcinoma',\n",
    "                            'Well-Differentiated Thyroid Cancer']   \n",
    "\n",
    "with gr.Blocks() as demo:\n",
    "    d = gr.Dropdown([\"Manual Inputs\", \"CSV File\"])\n",
    "    with gr.Row(visible=False) as r1:\n",
    "        with gr.Column():\n",
    "            patients_file = gr.File(label=\"Upload clinical patients data\")\n",
    "            samples_file = gr.File(label=\"Upload clinical samples data\")\n",
    "            mutations_file = gr.File(label=\"Upload mutations data\")\n",
    "            cna_file = gr.File(label=\"Upload CNA data\")\n",
    "            tumor_sample_id = gr.Dropdown(choices=[], label=\"Tumor Sample ID\")  # Changed to Dropdown\n",
    "            submit_button = gr.Button(\"Submit\")\n",
    "\n",
    "        with gr.Column():\n",
    "            predictions_output = gr.Textbox(label=\"Top 3 Predicted Cancer Types\")\n",
    "            category_explanation = gr.Textbox(label='Feature Category Explanation', interactive='False')\n",
    "            image = gr.Image(label=\"Image Display\")\n",
    "            output_selector = gr.Dropdown(choices=cancer_types_to_consider, label=\"Output Options\", filterable=True)\n",
    "\n",
    "        samples_file.change(gradio_utils.extract_sample_ids, inputs=samples_file, outputs=tumor_sample_id)\n",
    "        submit_button.click(gradio_utils.get_preds, inputs=[patients_file, samples_file, mutations_file, cna_file, tumor_sample_id], outputs=[predictions_output, category_explanation, image])\n",
    "        output_selector.change(gradio_utils.update_image, inputs=output_selector, outputs=image)\n",
    "\n",
    "    with gr.Row(visible=False) as r2:\n",
    "        with gr.Column():\n",
    "            age = gr.Number(label=\"Age\")\n",
    "            gender = gr.Radio(choices=[\"Male\", \"Female\"], label=\"Gender\")\n",
    "            cna_events = gr.Textbox(lines=2, placeholder=\"Enter CNA events...\\nex: KCNQ1 2 | BRAF -1 | SLX1B 1 | CBLB -2\", label=\"Genes with CNA Events (comma-separated)\")\n",
    "            mutations = gr.Textbox(lines=5, placeholder=\"Enter mutations...\\nex: chr17, 7577539, G, A | chr3, 178936091, G, A | chr6, 152419920, T, A\", label=\"MUTATIONS\")\n",
    "            submit_button = gr.Button(\"Submit\")\n",
    "        with gr.Column():\n",
    "            predictions_output = gr.Textbox(label=\"Top 3 Predicted Cancer Types\")\n",
    "            category_explanation = gr.Textbox(label='Feature Category Explanation', interactive='False')\n",
    "            image = gr.Image(label=\"Image Display\") \n",
    "            output_selector = gr.Dropdown(choices=cancer_types_to_consider, label=\"Output Options\", filterable=True)\n",
    "        submit_button.click(gradio_utils.get_preds_min_info, inputs=[age, gender, cna_events, mutations], outputs=[predictions_output, category_explanation, image])\n",
    "        output_selector.change(gradio_utils.update_image, inputs=output_selector, outputs=image)\n",
    "\n",
    "    d.change(gradio_utils.show_row, d, [r1, r2])\n",
    "    \n",
    "demo.launch(debug=True, share=True)"
   ]
  },
  {
   "cell_type": "code",
   "execution_count": null,
   "id": "4ea8c07c-78f0-446d-891b-35a2a7841ec1",
   "metadata": {},
   "outputs": [],
   "source": []
  }
 ],
 "metadata": {
  "kernelspec": {
   "display_name": "Python (xgboost)",
   "language": "python",
   "name": "myenv_latest_xgboost"
  },
  "language_info": {
   "codemirror_mode": {
    "name": "ipython",
    "version": 3
   },
   "file_extension": ".py",
   "mimetype": "text/x-python",
   "name": "python",
   "nbconvert_exporter": "python",
   "pygments_lexer": "ipython3",
   "version": "3.8.18"
  }
 },
 "nbformat": 4,
 "nbformat_minor": 5
}
