{
 "cells": [
  {
   "cell_type": "code",
   "execution_count": 1,
   "id": "4f19125c-7c88-41b6-8afd-4950f537f12c",
   "metadata": {},
   "outputs": [
    {
     "name": "stderr",
     "output_type": "stream",
     "text": [
      "Using `tqdm.autonotebook.tqdm` in notebook mode. Use `tqdm.tqdm` instead to force console mode (e.g. in jupyter console)\n"
     ]
    }
   ],
   "source": [
    "import warnings\n",
    "import pandas as pd\n",
    "import xgboost as xgb\n",
    "import sys\n",
    "sys.path.append('../codes')\n",
    "import utils as utils\n",
    "import gradio as gr\n",
    "import process_features\n",
    "import deconstruct_sigs_from_user_input as deconstructSigs"
   ]
  },
  {
   "cell_type": "code",
   "execution_count": 3,
   "id": "f68778b6-98ca-4acb-9b31-80e1e6d7baa4",
   "metadata": {},
   "outputs": [
    {
     "name": "stdout",
     "output_type": "stream",
     "text": [
      "Running on local URL:  http://127.0.0.1:7867\n",
      "Running on public URL: https://e863744b9e3db39384.gradio.live\n",
      "\n",
      "This share link expires in 72 hours. For free permanent hosting and GPU upgrades, run `gradio deploy` from Terminal to deploy to Spaces (https://huggingface.co/spaces)\n"
     ]
    },
    {
     "data": {
      "text/html": [
       "<div><iframe src=\"https://e863744b9e3db39384.gradio.live\" width=\"100%\" height=\"500\" allow=\"autoplay; camera; microphone; clipboard-read; clipboard-write;\" frameborder=\"0\" allowfullscreen></iframe></div>"
      ],
      "text/plain": [
       "<IPython.core.display.HTML object>"
      ]
     },
     "metadata": {},
     "output_type": "display_data"
    },
    {
     "name": "stderr",
     "output_type": "stream",
     "text": [
      "Using the update method is deprecated. Simply return a new object instead, e.g. `return gr.Dropdown(...)` instead of `return gr.Dropdown.update(...)`.\n"
     ]
    },
    {
     "name": "stdout",
     "output_type": "stream",
     "text": [
      "Keyboard interruption in main thread... closing server.\n"
     ]
    },
    {
     "ename": "KeyboardInterrupt",
     "evalue": "",
     "output_type": "error",
     "traceback": [
      "\u001b[0;31m---------------------------------------------------------------------------\u001b[0m",
      "\u001b[0;31mKeyboardInterrupt\u001b[0m                         Traceback (most recent call last)",
      "File \u001b[0;32m~/anaconda3/envs/myenv_latest_xgboost/lib/python3.8/site-packages/gradio/blocks.py:2361\u001b[0m, in \u001b[0;36mBlocks.block_thread\u001b[0;34m(self)\u001b[0m\n\u001b[1;32m   2360\u001b[0m     \u001b[38;5;28;01mwhile\u001b[39;00m \u001b[38;5;28;01mTrue\u001b[39;00m:\n\u001b[0;32m-> 2361\u001b[0m         \u001b[43mtime\u001b[49m\u001b[38;5;241;43m.\u001b[39;49m\u001b[43msleep\u001b[49m\u001b[43m(\u001b[49m\u001b[38;5;241;43m0.1\u001b[39;49m\u001b[43m)\u001b[49m\n\u001b[1;32m   2362\u001b[0m \u001b[38;5;28;01mexcept\u001b[39;00m (\u001b[38;5;167;01mKeyboardInterrupt\u001b[39;00m, \u001b[38;5;167;01mOSError\u001b[39;00m):\n",
      "\u001b[0;31mKeyboardInterrupt\u001b[0m: ",
      "\nDuring handling of the above exception, another exception occurred:\n",
      "\u001b[0;31mKeyboardInterrupt\u001b[0m                         Traceback (most recent call last)",
      "Cell \u001b[0;32mIn[3], line 49\u001b[0m\n\u001b[1;32m     45\u001b[0m         output_selector\u001b[38;5;241m.\u001b[39mchange(gradio_utils\u001b[38;5;241m.\u001b[39mupdate_image, inputs\u001b[38;5;241m=\u001b[39moutput_selector, outputs\u001b[38;5;241m=\u001b[39mimage)\n\u001b[1;32m     47\u001b[0m     d\u001b[38;5;241m.\u001b[39mchange(show_row, d, [r1, r2])\n\u001b[0;32m---> 49\u001b[0m \u001b[43mdemo\u001b[49m\u001b[38;5;241;43m.\u001b[39;49m\u001b[43mlaunch\u001b[49m\u001b[43m(\u001b[49m\u001b[43mdebug\u001b[49m\u001b[38;5;241;43m=\u001b[39;49m\u001b[38;5;28;43;01mTrue\u001b[39;49;00m\u001b[43m,\u001b[49m\u001b[43m \u001b[49m\u001b[43mshare\u001b[49m\u001b[38;5;241;43m=\u001b[39;49m\u001b[38;5;28;43;01mTrue\u001b[39;49;00m\u001b[43m)\u001b[49m\n",
      "File \u001b[0;32m~/anaconda3/envs/myenv_latest_xgboost/lib/python3.8/site-packages/gradio/blocks.py:2255\u001b[0m, in \u001b[0;36mBlocks.launch\u001b[0;34m(self, inline, inbrowser, share, debug, enable_queue, max_threads, auth, auth_message, prevent_thread_lock, show_error, server_name, server_port, show_tips, height, width, encrypt, favicon_path, ssl_keyfile, ssl_certfile, ssl_keyfile_password, ssl_verify, quiet, show_api, file_directories, allowed_paths, blocked_paths, root_path, _frontend, app_kwargs, state_session_capacity)\u001b[0m\n\u001b[1;32m   2253\u001b[0m \u001b[38;5;66;03m# Block main thread if debug==True\u001b[39;00m\n\u001b[1;32m   2254\u001b[0m \u001b[38;5;28;01mif\u001b[39;00m debug \u001b[38;5;129;01mor\u001b[39;00m \u001b[38;5;28mint\u001b[39m(os\u001b[38;5;241m.\u001b[39mgetenv(\u001b[38;5;124m\"\u001b[39m\u001b[38;5;124mGRADIO_DEBUG\u001b[39m\u001b[38;5;124m\"\u001b[39m, \u001b[38;5;241m0\u001b[39m)) \u001b[38;5;241m==\u001b[39m \u001b[38;5;241m1\u001b[39m \u001b[38;5;129;01mand\u001b[39;00m \u001b[38;5;129;01mnot\u001b[39;00m wasm_utils\u001b[38;5;241m.\u001b[39mIS_WASM:\n\u001b[0;32m-> 2255\u001b[0m     \u001b[38;5;28;43mself\u001b[39;49m\u001b[38;5;241;43m.\u001b[39;49m\u001b[43mblock_thread\u001b[49m\u001b[43m(\u001b[49m\u001b[43m)\u001b[49m\n\u001b[1;32m   2256\u001b[0m \u001b[38;5;66;03m# Block main thread if running in a script to stop script from exiting\u001b[39;00m\n\u001b[1;32m   2257\u001b[0m is_in_interactive_mode \u001b[38;5;241m=\u001b[39m \u001b[38;5;28mbool\u001b[39m(\u001b[38;5;28mgetattr\u001b[39m(sys, \u001b[38;5;124m\"\u001b[39m\u001b[38;5;124mps1\u001b[39m\u001b[38;5;124m\"\u001b[39m, sys\u001b[38;5;241m.\u001b[39mflags\u001b[38;5;241m.\u001b[39minteractive))\n",
      "File \u001b[0;32m~/anaconda3/envs/myenv_latest_xgboost/lib/python3.8/site-packages/gradio/blocks.py:2365\u001b[0m, in \u001b[0;36mBlocks.block_thread\u001b[0;34m(self)\u001b[0m\n\u001b[1;32m   2363\u001b[0m \u001b[38;5;28mprint\u001b[39m(\u001b[38;5;124m\"\u001b[39m\u001b[38;5;124mKeyboard interruption in main thread... closing server.\u001b[39m\u001b[38;5;124m\"\u001b[39m)\n\u001b[1;32m   2364\u001b[0m \u001b[38;5;28;01mif\u001b[39;00m \u001b[38;5;28mself\u001b[39m\u001b[38;5;241m.\u001b[39mserver:\n\u001b[0;32m-> 2365\u001b[0m     \u001b[38;5;28;43mself\u001b[39;49m\u001b[38;5;241;43m.\u001b[39;49m\u001b[43mserver\u001b[49m\u001b[38;5;241;43m.\u001b[39;49m\u001b[43mclose\u001b[49m\u001b[43m(\u001b[49m\u001b[43m)\u001b[49m\n\u001b[1;32m   2366\u001b[0m \u001b[38;5;28;01mfor\u001b[39;00m tunnel \u001b[38;5;129;01min\u001b[39;00m CURRENT_TUNNELS:\n\u001b[1;32m   2367\u001b[0m     tunnel\u001b[38;5;241m.\u001b[39mkill()\n",
      "File \u001b[0;32m~/anaconda3/envs/myenv_latest_xgboost/lib/python3.8/site-packages/gradio/networking.py:75\u001b[0m, in \u001b[0;36mServer.close\u001b[0;34m(self)\u001b[0m\n\u001b[1;32m     73\u001b[0m     \u001b[38;5;28mself\u001b[39m\u001b[38;5;241m.\u001b[39mreloader\u001b[38;5;241m.\u001b[39mstop()\n\u001b[1;32m     74\u001b[0m     \u001b[38;5;28mself\u001b[39m\u001b[38;5;241m.\u001b[39mwatch_thread\u001b[38;5;241m.\u001b[39mjoin()\n\u001b[0;32m---> 75\u001b[0m \u001b[38;5;28;43mself\u001b[39;49m\u001b[38;5;241;43m.\u001b[39;49m\u001b[43mthread\u001b[49m\u001b[38;5;241;43m.\u001b[39;49m\u001b[43mjoin\u001b[49m\u001b[43m(\u001b[49m\u001b[43m)\u001b[49m\n",
      "File \u001b[0;32m~/anaconda3/envs/myenv_latest_xgboost/lib/python3.8/threading.py:1011\u001b[0m, in \u001b[0;36mThread.join\u001b[0;34m(self, timeout)\u001b[0m\n\u001b[1;32m   1008\u001b[0m     \u001b[38;5;28;01mraise\u001b[39;00m \u001b[38;5;167;01mRuntimeError\u001b[39;00m(\u001b[38;5;124m\"\u001b[39m\u001b[38;5;124mcannot join current thread\u001b[39m\u001b[38;5;124m\"\u001b[39m)\n\u001b[1;32m   1010\u001b[0m \u001b[38;5;28;01mif\u001b[39;00m timeout \u001b[38;5;129;01mis\u001b[39;00m \u001b[38;5;28;01mNone\u001b[39;00m:\n\u001b[0;32m-> 1011\u001b[0m     \u001b[38;5;28;43mself\u001b[39;49m\u001b[38;5;241;43m.\u001b[39;49m\u001b[43m_wait_for_tstate_lock\u001b[49m\u001b[43m(\u001b[49m\u001b[43m)\u001b[49m\n\u001b[1;32m   1012\u001b[0m \u001b[38;5;28;01melse\u001b[39;00m:\n\u001b[1;32m   1013\u001b[0m     \u001b[38;5;66;03m# the behavior of a negative timeout isn't documented, but\u001b[39;00m\n\u001b[1;32m   1014\u001b[0m     \u001b[38;5;66;03m# historically .join(timeout=x) for x<0 has acted as if timeout=0\u001b[39;00m\n\u001b[1;32m   1015\u001b[0m     \u001b[38;5;28mself\u001b[39m\u001b[38;5;241m.\u001b[39m_wait_for_tstate_lock(timeout\u001b[38;5;241m=\u001b[39m\u001b[38;5;28mmax\u001b[39m(timeout, \u001b[38;5;241m0\u001b[39m))\n",
      "File \u001b[0;32m~/anaconda3/envs/myenv_latest_xgboost/lib/python3.8/threading.py:1027\u001b[0m, in \u001b[0;36mThread._wait_for_tstate_lock\u001b[0;34m(self, block, timeout)\u001b[0m\n\u001b[1;32m   1025\u001b[0m \u001b[38;5;28;01mif\u001b[39;00m lock \u001b[38;5;129;01mis\u001b[39;00m \u001b[38;5;28;01mNone\u001b[39;00m:  \u001b[38;5;66;03m# already determined that the C code is done\u001b[39;00m\n\u001b[1;32m   1026\u001b[0m     \u001b[38;5;28;01massert\u001b[39;00m \u001b[38;5;28mself\u001b[39m\u001b[38;5;241m.\u001b[39m_is_stopped\n\u001b[0;32m-> 1027\u001b[0m \u001b[38;5;28;01melif\u001b[39;00m \u001b[43mlock\u001b[49m\u001b[38;5;241;43m.\u001b[39;49m\u001b[43macquire\u001b[49m\u001b[43m(\u001b[49m\u001b[43mblock\u001b[49m\u001b[43m,\u001b[49m\u001b[43m \u001b[49m\u001b[43mtimeout\u001b[49m\u001b[43m)\u001b[49m:\n\u001b[1;32m   1028\u001b[0m     lock\u001b[38;5;241m.\u001b[39mrelease()\n\u001b[1;32m   1029\u001b[0m     \u001b[38;5;28mself\u001b[39m\u001b[38;5;241m.\u001b[39m_stop()\n",
      "\u001b[0;31mKeyboardInterrupt\u001b[0m: "
     ]
    }
   ],
   "source": [
    "import gradio_utils\n",
    "\n",
    "with gr.Blocks() as demo:\n",
    "    d = gr.Dropdown([\"Manual Inputs\", \"CSV File\"])\n",
    "    with gr.Row(visible=False) as r1:\n",
    "        with gr.Column():\n",
    "            patients_file = gr.File(label=\"Upload clinical patients data\")\n",
    "            samples_file = gr.File(label=\"Upload clinical samples data\")\n",
    "            mutations_file = gr.File(label=\"Upload mutations data\")\n",
    "            cna_file = gr.File(label=\"Upload CNA data\")\n",
    "            tumor_sample_id = gr.Dropdown(choices=[], label=\"Tumor Sample ID\")  # Changed to Dropdown\n",
    "            submit_button = gr.Button(\"Submit\")\n",
    "\n",
    "        with gr.Column():\n",
    "            predictions_output = gr.Textbox(label=\"Top 3 Predicted Cancer Types\")\n",
    "            category_explanation = gr.Textbox(label='Feature Category Explanation', interactive='False')\n",
    "            image = gr.Image(label=\"Image Display\")\n",
    "            output_selector = gr.Dropdown(choices=cancer_types_to_consider, label=\"Output Options\", filterable=True)\n",
    "\n",
    "        samples_file.change(gradio_utils.extract_sample_ids, inputs=samples_file, outputs=tumor_sample_id)\n",
    "        submit_button.click(gradio_utils.get_preds, inputs=[patients_file, samples_file, mutations_file, cna_file, tumor_sample_id], outputs=[predictions_output, category_explanation, image])\n",
    "        output_selector.change(gradio_utils.update_image, inputs=output_selector, outputs=image)\n",
    "\n",
    "    with gr.Row(visible=False) as r2:\n",
    "        with gr.Column():\n",
    "            age = gr.Number(label=\"Age\")\n",
    "            gender = gr.Radio(choices=[\"Male\", \"Female\"], label=\"Gender\")\n",
    "            cna_events = gr.Textbox(lines=2, placeholder=\"Enter CNA events...\\nex: KCNQ1 2 | BRAF -1 | SLX1B 1 | CBLB -2\", label=\"Genes with CNA Events (comma-separated)\")\n",
    "            mutations = gr.Textbox(lines=5, placeholder=\"Enter mutations...\\nex: chr17, 7577539, G, A | chr3, 178936091, G, A | chr6, 152419920, T, A\", label=\"MUTATIONS\")\n",
    "            submit_button = gr.Button(\"Submit\")\n",
    "        with gr.Column():\n",
    "            predictions_output = gr.Textbox(label=\"Top 3 Predicted Cancer Types\")\n",
    "            category_explanation = gr.Textbox(label='Feature Category Explanation', interactive='False')\n",
    "            image = gr.Image(label=\"Image Display\") \n",
    "            output_selector = gr.Dropdown(choices=cancer_types_to_consider, label=\"Output Options\", filterable=True)\n",
    "        submit_button.click(gradio_utils.get_preds_min_info, inputs=[age, gender, cna_events, mutations], outputs=[predictions_output, category_explanation, image])\n",
    "        output_selector.change(gradio_utils.update_image, inputs=output_selector, outputs=image)\n",
    "\n",
    "    d.change(show_row, d, [r1, r2])\n",
    "    \n",
    "demo.launch(debug=True, share=True)"
   ]
  },
  {
   "cell_type": "code",
   "execution_count": null,
   "id": "4ea8c07c-78f0-446d-891b-35a2a7841ec1",
   "metadata": {},
   "outputs": [],
   "source": []
  }
 ],
 "metadata": {
  "kernelspec": {
   "display_name": "Python (xgboost)",
   "language": "python",
   "name": "myenv_latest_xgboost"
  },
  "language_info": {
   "codemirror_mode": {
    "name": "ipython",
    "version": 3
   },
   "file_extension": ".py",
   "mimetype": "text/x-python",
   "name": "python",
   "nbconvert_exporter": "python",
   "pygments_lexer": "ipython3",
   "version": "3.8.18"
  }
 },
 "nbformat": 4,
 "nbformat_minor": 5
}
