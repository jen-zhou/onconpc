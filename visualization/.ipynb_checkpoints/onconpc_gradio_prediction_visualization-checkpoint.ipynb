{
 "cells": [
  {
   "cell_type": "code",
   "execution_count": 22,
   "metadata": {},
   "outputs": [],
   "source": [
    "import os\n",
    "import numpy as np\n",
    "import pandas as pd\n",
    "import xgboost as xgb\n",
    "import joblib\n",
    "import sys\n",
    "sys.path.append('../codes')\n",
    "import utils\n",
    "import importlib\n",
    "import process_features\n",
    "importlib.reload(utils)\n",
    "import matplotlib\n",
    "\n",
    "import shap\n",
    "import gradio as gr\n",
    "import io\n",
    "from collections import defaultdict"
   ]
  },
  {
   "cell_type": "code",
   "execution_count": 23,
   "metadata": {},
   "outputs": [],
   "source": [
    "# load model\n",
    "xgb_onconpc = xgb.Booster()\n",
    "xgb_onconpc.load_model('../model/xgboost_model.json')\n",
    "\n",
    "# Specify cancer types to consider\n",
    "cancer_types_to_consider = ['Acute Myeloid Leukemia', 'Bladder Urothelial Carcinoma', 'Cholangiocarcinoma',\n",
    "                            'Colorectal Adenocarcinoma', 'Diffuse Glioma', 'Endometrial Carcinoma',\n",
    "                            'Esophagogastric Adenocarcinoma', 'Gastrointestinal Neuroendocrine Tumors', 'Gastrointestinal Stromal Tumor',\n",
    "                            'Head and Neck Squamous Cell Carcinoma', 'Invasive Breast Carcinoma', 'Melanoma', 'Meningothelial Tumor',\n",
    "                            'Non-Hodgkin Lymphoma', 'Non-Small Cell Lung Cancer', 'Ovarian Epithelial Tumor', 'Pancreatic Adenocarcinoma',\n",
    "                            'Pancreatic Neuroendocrine Tumor', 'Pleural Mesothelioma', 'Prostate Adenocarcinoma', 'Renal Cell Carcinoma',\n",
    "                            'Well-Differentiated Thyroid Cancer']\n",
    "\n",
    "\n",
    "onconpc_processed_cups_df = pd.read_csv('../data/onconpc_processed_cups_data.csv')\n",
    "all_features = onconpc_processed_cups_df.columns.to_list()"
   ]
  },
  {
   "cell_type": "code",
   "execution_count": 24,
   "metadata": {},
   "outputs": [],
   "source": [
    "def parse_inputs(age, gender, CNA_events, mutations):\n",
    "    age = age #TODO check how this is normalized \n",
    "    \n",
    "    gender = 1 if gender == 'male' else -1 \n",
    "\n",
    "    # string parsing for cna input \n",
    "    if len(CNA_events) > 0:\n",
    "        CNA_events = CNA_events.split('|')\n",
    "        for i in range(len(CNA_events)):\n",
    "            CNA_events[i] = CNA_events[i].split()\n",
    "            CNA_events[i][1] = int(CNA_events[i][1]) # cast val to integer, CNA_events can take on vals -2, -1, 0, 1, 2\n",
    "    else:\n",
    "        CNA_events = []\n",
    "\n",
    "    if len(mutations) > 0:\n",
    "        mutations = mutations.split('|')\n",
    "        for i in range(len(mutations)):\n",
    "            mutations[i] = mutations[i].split(', ')\n",
    "    else:\n",
    "        mutations = []\n",
    "\n",
    "    return age, gender, CNA_events, mutations"
   ]
  },
  {
   "cell_type": "code",
   "execution_count": 25,
   "metadata": {},
   "outputs": [],
   "source": [
    "import deconstruct_sigs_from_user_input as deconstructSigs\n",
    "\n",
    "def get_mut_signatures(mutations): \n",
    "    mutation_columns = [\"UNIQUE_SAMPLE_ID\", \"CHROMOSOME\", \"POSITION\", \"REF_ALLELE\", \"ALT_ALLELE\"]\n",
    "    if mutations:\n",
    "        mutation_df = pd.DataFrame(mutations, columns=mutation_columns)\n",
    "    else:\n",
    "        mutation_df = pd.DataFrame(columns=mutation_columns)\n",
    "    file = mutation_df.to_csv('./mutation_input.csv', index=False)\n",
    "\n",
    "    base_sub_file = deconstructSigs.get_base_substitutions() \n",
    "    df_trinuc_feats = pd.read_csv(base_sub_file) \n",
    "    mutation_signatures = process_features.obtain_mutation_signatures(df_trinuc_feats)\n",
    "    return mutation_signatures"
   ]
  },
  {
   "cell_type": "code",
   "execution_count": 26,
   "metadata": {},
   "outputs": [],
   "source": [
    "def get_top3_min_info(predictions):\n",
    "    \n",
    "    result = predictions.iloc[0]\n",
    "    transposed_row = result.transpose()\n",
    "    transposed_row = transposed_row.drop('cancer_type')\n",
    "    transposed_row = transposed_row.drop('max_posterior')\n",
    "    transposed_row = transposed_row.to_frame()\n",
    "    transposed_row.columns = ['probability']    \n",
    "    transposed_row['probability'] = pd.to_numeric(transposed_row['probability'], errors='coerce')   \n",
    "    top3df = transposed_row.nlargest(3, columns=['probability']) # <---- top 3 cancer predictions and their probabilities \n",
    "    top3 = transposed_row.nlargest(3, columns=['probability']).index.tolist() # <---- top 3 cancer predictions and their probabilities\n",
    "    top3probs = transposed_row.nlargest(3, columns=['probability'])['probability'].tolist()\n",
    "    \n",
    "    build = []\n",
    "    for cancer,prob in zip(top3, top3probs):\n",
    "        build.append([cancer, prob])\n",
    "    return build"
   ]
  },
  {
   "cell_type": "code",
   "execution_count": 27,
   "metadata": {},
   "outputs": [],
   "source": [
    "def top3_str(top3_list):\n",
    "    build = ''\n",
    "    for cancer, prob in top3_list:\n",
    "        build += cancer + ': ' + str(prob) + '\\n'\n",
    "    return build"
   ]
  },
  {
   "cell_type": "code",
   "execution_count": 28,
   "metadata": {},
   "outputs": [],
   "source": [
    "def get_top3_plots(data, top3_list): \n",
    "    plots = []\n",
    "    for cancer, prob in top3_list:\n",
    "        plot = get_plot(data, cancer, prob)\n",
    "        plots.append(plot)\n",
    "    return plots "
   ]
  },
  {
   "cell_type": "code",
   "execution_count": 29,
   "metadata": {},
   "outputs": [],
   "source": [
    "def construct_input_data(age, gender, CNA_events, mutation_signatures):\n",
    "    data = {}\n",
    "    data['AGE'] = age #TODO check how this is normalized \n",
    "    \n",
    "    for column in mutation_signatures.columns:\n",
    "        data[column] = mutation_signatures.iloc[0][column]\n",
    "    \n",
    "    for CNA_event in CNA_events:\n",
    "        CNA, val = CNA_event[0], CNA_event[1]\n",
    "        data[CNA] = val\n",
    "        \n",
    "    for column in all_features:\n",
    "        if column not in data.keys():\n",
    "            data[column] = 0\n",
    "\n",
    "    return data"
   ]
  },
  {
   "cell_type": "code",
   "execution_count": 30,
   "metadata": {},
   "outputs": [],
   "source": [
    "def get_plot(features, target, probability):\n",
    "    '''\n",
    "    features: df containing features (X inputs)\n",
    "    predictions: xgboost predictions \n",
    "    '''\n",
    "\n",
    "    shaps_cup = utils.obtain_shap_values_with_latest_xgboost(xgb_onconpc, features) # get shap values \n",
    "    \n",
    "\n",
    "    target_idx = cancer_types_to_consider.index(target) # index of cancer type prediction \n",
    "    \n",
    "    # Get SHAP-based explanation for the prediction\n",
    "    feature_sample_df = features.iloc[0] # find the exact tumor sample we're predicting for \n",
    "    shap_pred_cancer_df = pd.DataFrame(shaps_cup[target_idx],\n",
    "                                       index=features.index,\n",
    "                                       columns=features.columns)\n",
    "    shap_pred_sample_df = shap_pred_cancer_df.iloc[0]\n",
    "    \n",
    "    # Generate explanation plot\n",
    "    sample_info = f'Prediction: {target}\\nPrediction probability: {probability:.3f}'\n",
    "    feature_group_to_features_dict = utils.partiton_feature_names_by_group(features.columns)\n",
    "    fig = utils.get_individual_pred_interpretation(shap_pred_sample_df, feature_sample_df, feature_group_to_features_dict, sample_info=sample_info, filename=f'{target}_plot.png')\n",
    "    return fig"
   ]
  },
  {
   "cell_type": "code",
   "execution_count": null,
   "metadata": {},
   "outputs": [],
   "source": [
    "def get_preds_min_info(age, gender, CNA_events, mutations, output):\n",
    "    \n",
    "    age, gender, CNA_events, mutations = parse_inputs(age, gender, CNA_events, mutations)\n",
    "    global images\n",
    "    global current_image_index\n",
    "    global data\n",
    "    global predictions\n",
    "    current_image_index = 0\n",
    "\n",
    "    mutation_signatures = get_mut_signatures(mutations)\n",
    "\n",
    "    data = pd.DataFrame([construct_input_data(age, gender, CNA_events, mutation_signatures)])    \n",
    "    predictions = pd.DataFrame(utils.get_xgboost_latest_cancer_type_preds(xgb_onconpc, data, cancer_types_to_consider)) # make predictions \n",
    "\n",
    "    shaps_cup = utils.obtain_shap_values_with_latest_xgboost(xgb_onconpc, data) # get shap values \n",
    "    top3_pred_list = get_top3_min_info(predictions)\n",
    "\n",
    "    if output == 'Top Prediction':\n",
    "        pred_prob = predictions.iloc[0]['max_posterior']\n",
    "        pred_cancer = predictions.iloc[0]['cancer_type']\n",
    "        images = [get_plot(data, pred_cancer, pred_prob)]\n",
    "        selected_image = images[current_image_index]\n",
    "        return top3_str(top3_pred_list), selected_image\n",
    "\n",
    "    elif output == 'Top 3 Predictions':\n",
    "        images = get_top3_plots(data, top3_pred_list)\n",
    "        selected_image = images[current_image_index]\n",
    "        return top3_str(top3_pred_list), selected_image\n",
    "\n",
    "    else:\n",
    "        images = [get_plot(data, output, predictions.iloc[0][output])]\n",
    "        selected_image = images[current_image_index]\n",
    "        return top3_str(top3_pred_list), selected_image"
   ]
  },
  {
   "cell_type": "code",
   "execution_count": null,
   "metadata": {},
   "outputs": [
    {
     "name": "stdout",
     "output_type": "stream",
     "text": [
      "Running on local URL:  http://127.0.0.1:7860\n",
      "Running on public URL: https://d702b9674a762cb8d5.gradio.live\n",
      "\n",
      "This share link expires in 72 hours. For free permanent hosting and GPU upgrades, run `gradio deploy` from Terminal to deploy to Spaces (https://huggingface.co/spaces)\n"
     ]
    },
    {
     "data": {
      "text/html": [
       "<div><iframe src=\"https://d702b9674a762cb8d5.gradio.live\" width=\"100%\" height=\"500\" allow=\"autoplay; camera; microphone; clipboard-read; clipboard-write;\" frameborder=\"0\" allowfullscreen></iframe></div>"
      ],
      "text/plain": [
       "<IPython.core.display.HTML object>"
      ]
     },
     "metadata": {},
     "output_type": "display_data"
    }
   ],
   "source": [
    "import gradio as gr\n",
    "\n",
    "output_graph_options = cancer_types_to_consider + ['Top 3 Predictions', 'Top Prediction'] \n",
    "\n",
    "def change_image(direction):\n",
    "    global current_image_index, images\n",
    "    if direction == \"Next\":\n",
    "        current_image_index = (current_image_index + 1) % len(images)\n",
    "    elif direction == \"Previous\":\n",
    "        current_image_index = (current_image_index - 1) % len(images)\n",
    "    return gr.Image(images[current_image_index])\n",
    "\n",
    "\n",
    "with gr.Blocks() as demo:\n",
    "    with gr.Row():\n",
    "        with gr.Column():\n",
    "            age = gr.Number(label=\"Age\")\n",
    "            gender = gr.Radio(choices=[\"Male\", \"Female\"], label=\"Gender\")\n",
    "            cna_events = gr.Textbox(lines=2, placeholder=\"Enter CNA events...\", label=\"Genes with CNA Events (comma-separated)\")\n",
    "            mutations = gr.Textbox(lines=5, placeholder=\"Enter mutations...\", label=\"MUTATIONS\")\n",
    "            output_selector = gr.Dropdown(choices=output_graph_options, label=\"Output Options\", filterable=True, multiselect=False)\n",
    "            submit_button = gr.Button(\"Submit\")\n",
    "\n",
    "        with gr.Column():\n",
    "            predictions_output = gr.Textbox(label=\"Top 3 Predicted Cancer Types\")\n",
    "            image = gr.Image(label=\"Image Display\") \n",
    "            with gr.Row():\n",
    "                prev_button = gr.Button(\"Previous\")\n",
    "                next_button = gr.Button(\"Next\")\n",
    "\n",
    "    prev_direction = gr.Textbox(visible=False, value=\"Previous\")\n",
    "    next_direction = gr.Textbox(visible=False, value=\"Next\")\n",
    "    \n",
    "    submit_button.click(get_preds_min_info, inputs=[age, gender, cna_events, mutations, output_selector], outputs=[predictions_output, image])\n",
    "    prev_button.click(change_image, inputs=prev_direction, outputs=image)\n",
    "    next_button.click(change_image, inputs=next_direction, outputs=image)\n",
    "\n",
    "demo.launch(debug=True, share=True)"
   ]
  },
  {
   "cell_type": "code",
   "execution_count": 21,
   "metadata": {},
   "outputs": [],
   "source": [
    "# CNA events: KCNQ1 2 | BRAF -1 | SLX1B 1 | CBLB -2\n",
    "# mutations: GENIE-MSK-P-0000015-T01-IM3, chr17, 7577539, G, A | GENIE-MSK-P-0000015-T01-IM3, chr3, 178936091, G, A | GENIE-MSK-P-0000015-T01-IM3, chr6, 152419920, T, A"
   ]
  },
  {
   "cell_type": "code",
   "execution_count": null,
   "metadata": {},
   "outputs": [],
   "source": []
  },
  {
   "cell_type": "code",
   "execution_count": null,
   "metadata": {},
   "outputs": [],
   "source": []
  }
 ],
 "metadata": {
  "kernelspec": {
   "display_name": "Python (xgboost)",
   "language": "python",
   "name": "myenv_latest_xgboost"
  },
  "language_info": {
   "codemirror_mode": {
    "name": "ipython",
    "version": 3
   },
   "file_extension": ".py",
   "mimetype": "text/x-python",
   "name": "python",
   "nbconvert_exporter": "python",
   "pygments_lexer": "ipython3",
   "version": "3.8.18"
  }
 },
 "nbformat": 4,
 "nbformat_minor": 4
}
